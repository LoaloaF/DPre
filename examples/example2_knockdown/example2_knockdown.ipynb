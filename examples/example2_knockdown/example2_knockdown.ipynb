{
 "cells": [
  {
   "cell_type": "code",
   "execution_count": null,
   "metadata": {},
   "outputs": [],
   "source": [
    "# setting up jupyter\n",
    "%matplotlib inline\n",
    "import matplotlib as mpl\n",
    "mpl.rcParams['figure.dpi'] = 300\n",
    "mpl.rcParams['savefig.dpi'] = 300"
   ]
  },
  {
   "cell_type": "markdown",
   "metadata": {},
   "source": [
    "# Example 2 - exploring the knockdown of Chd4 and Mcrs1\n",
    "In this example, mESCs were treated with shChd4 and shMcrs1. The sequencing analysis could not reveal the direction of differentiation in these cells, hence the outcome of exploring differentiation bias unknown. This example features the use of the ranked bar plot and how to utilize the plot's return values."
   ]
  },
  {
   "cell_type": "markdown",
   "metadata": {},
   "source": [
    "We start by passing the input data to <i>samples</i>. DEseq2 analysis was conducted on the data to identify the differential genes. Together with the expression TSV file, we can initiate the samples:"
   ]
  },
  {
   "cell_type": "code",
   "execution_count": null,
   "metadata": {
    "scrolled": false
   },
   "outputs": [],
   "source": [
    "import DPre\n",
    "s = DPre.samples(diff_genes = './knockdown_deseq_res', \n",
    "                 expression = 'knockdown_expression.tsv',\n",
    "                 ctrl = 'shLuc',\n",
    "                 name = 'sh knockdown in mESCs',\n",
    "                )"
   ]
  },
  {
   "cell_type": "markdown",
   "metadata": {},
   "source": [
    "As desired, the log tells us that the control was added to <i>diff_genes</i> data to match the length of expression. \n",
    "However, the initiation failed due to non-matching names between the expression- and gene list data. Since the elements do align and only differ in their naming (see logs), we can override the gene list names with the <b><i>override_namematcher</i></b> argument:"
   ]
  },
  {
   "cell_type": "code",
   "execution_count": null,
   "metadata": {
    "scrolled": true
   },
   "outputs": [],
   "source": [
    "import DPre\n",
    "s = DPre.samples(diff_genes = './knockdown_deseq_res', \n",
    "                 expression = 'knockdown_expression.tsv',\n",
    "                 ctrl = 'shLuc',\n",
    "                 name = 'sh knockdown in mESCs',\n",
    "                 override_namematcher = True,    # ignore mismatches between expression and gene list names, use with care\n",
    "                )"
   ]
  },
  {
   "cell_type": "markdown",
   "metadata": {},
   "source": [
    "Create the 'mouse' reference targets instance:"
   ]
  },
  {
   "cell_type": "code",
   "execution_count": null,
   "metadata": {},
   "outputs": [],
   "source": [
    "import DPre\n",
    "t = DPre.preset_targets('mouse', preset_colors=True)"
   ]
  },
  {
   "cell_type": "markdown",
   "metadata": {},
   "source": [
    "We first get an overview of the similarities using the <i>target_similarity_heatmap()</i>. For cross validation, we also run both the 'intersect' and 'euclid' metric:"
   ]
  },
  {
   "cell_type": "code",
   "execution_count": null,
   "metadata": {},
   "outputs": [],
   "source": [
    "import DPre\n",
    "# euclid overview\n",
    "hm = t.target_similarity_heatmap(s, \n",
    "                                 metric = 'euclid', \n",
    "                                 hide_targetlabels = True,\n",
    "                                 heatmap_width = .09,\n",
    "                                 targetlabels_space = .8,\n",
    "                                 pivot = True,\n",
    "                                 filename = 'target_sim_euclid.png',\n",
    "                                 )\n",
    "# intersect overview\n",
    "hm = t.target_similarity_heatmap(s, \n",
    "                                 metric = 'intersect', \n",
    "                                 hide_targetlabels = True,\n",
    "                                 heatmap_width = .09,\n",
    "                                 targetlabels_space= .8,\n",
    "                                 pivot = True,\n",
    "                                 filename = 'target_sim_intersect.png',\n",
    "                                 )"
   ]
  },
  {
   "cell_type": "markdown",
   "metadata": {},
   "source": [
    "Or on the command line (euclid):"
   ]
  },
  {
   "cell_type": "code",
   "execution_count": null,
   "metadata": {
    "scrolled": true
   },
   "outputs": [],
   "source": [
    "# copy and paste into your terminal (somehow doesn't run in here)\n",
    "!python ../../dpre.py -pt \"mouse\" -sd \"./knockdown_deseq_res\" -se \"knockdown_expression.tsv\" -c \"shLuc\" -sn \"sh knockdown in mESCs\" -so target_sim -hta -hw 0.09 -ta 0.8 -pi -f \"target_sim_euclid.png\""
   ]
  },
  {
   "cell_type": "markdown",
   "metadata": {},
   "source": [
    "While the similarity values between the two metrics largely overlap for the shMcrs1 sample, shChd4 values are more off. This is generally an indication for low validity. Mcrs1 knockdown seems to result in a similarity increase with distinct blood mesoderm cell types. To identify these values, we use the <i>ranked_similarity_barplot()</i> function:"
   ]
  },
  {
   "cell_type": "code",
   "execution_count": null,
   "metadata": {
    "scrolled": false
   },
   "outputs": [],
   "source": [
    "bp = t.ranked_similarity_barplot(samples = s, \n",
    "                                 metric = 'euclid',\n",
    "                                 display_negative = True,    # also show the bottom peak values\n",
    "                                 pivot = True,\n",
    "                                 filename =  'ranked_sim_eucl.pdf')\n",
    "bp = t.ranked_similarity_barplot(samples = s, \n",
    "                                 metric = 'intersect',\n",
    "                                 display_negative = True,\n",
    "                                 pivot = True,\n",
    "                                 filename =  'ranked_sim_intersect.pdf')"
   ]
  },
  {
   "cell_type": "markdown",
   "metadata": {},
   "source": [
    "Or on the command line:"
   ]
  },
  {
   "cell_type": "code",
   "execution_count": null,
   "metadata": {},
   "outputs": [],
   "source": [
    "# copy and paste into your terminal\n",
    "> python ../../dpre.py -pt \"mouse\" -sd \"./knockdown_deseq_res\" -se \"knockdown_expression.tsv\" -c \"shLuc\" -sn \"sh knockdown in mESCs\" -so ranked_sim -pi -din -f \"ranked_sim_eucl.png\""
   ]
  },
  {
   "cell_type": "markdown",
   "metadata": {},
   "source": [
    "The knockdown of Mcrs1 results in a defined differentiation bias towards Erythroblasts. We can proceed by identifying the driving genes that underlay this bias. We first subset the targets to the different Erythroblasts found in the reference. "
   ]
  },
  {
   "cell_type": "code",
   "execution_count": null,
   "metadata": {
    "scrolled": true
   },
   "outputs": [],
   "source": [
    "# filter out the erythroblast targets \n",
    "eryth_names = [n for n in t.names if 'rythroblast' in n]\n",
    "t_eryth = t.slice_elements(eryth_names)\n",
    "# drop the Chd4 element from the samples\n",
    "mcrs4 = s.slice_elements(['shMcrs1', 'shLuc'])\n",
    "\n",
    "# run the plot without saving to get the returned plot dictionary\n",
    "gene_sim_plt = t_eryth.gene_similarity_heatmap(mcrs4, \n",
    "                                               metric = 'euclid',\n",
    "                                               display_genes = 'increasing', \n",
    "                                               gene_number = 80,\n",
    "                                               filename = None,\n",
    "                                               )"
   ]
  },
  {
   "cell_type": "markdown",
   "metadata": {},
   "source": [
    "The heatmaps reveal that the similarity shift is mainly driven by histone transcripts. We can use the return value of the plot to access the list of genes and assign colors to the different histone types. For this use case and more general data transformations, DPre provides an <i><b>annotate()</b></i> and <i><b>get_ensgs()</b></i> functions based on the Ensemble v96 annotation."
   ]
  },
  {
   "cell_type": "code",
   "execution_count": null,
   "metadata": {
    "scrolled": false
   },
   "outputs": [],
   "source": [
    "import DPre\n",
    "# first index the target name, \n",
    "# then element 3 of [axes, figure, data], \n",
    "# then 'up' for the marker gene type (only one)\n",
    "# then element 1 of [heatmap data, distance bar data, sum plot data]\n",
    "# finally the column names of this DataFrame\n",
    "genelist = gene_sim_plt['Erythroblast'][2]['up'][0].columns\n",
    "\n",
    "# annotate the ensg keys\n",
    "genelist = DPre.annotate(genelist, 'mouse')\n",
    "\n",
    "# assemble lists containing the specific hist*-groups\n",
    "hist1 = []\n",
    "hist2 = []\n",
    "hist3 = []\n",
    "hist4 = []\n",
    "for gene in genelist:\n",
    "    if gene.startswith('Hist1'):\n",
    "        hist1.append(gene)\n",
    "    elif gene.startswith('Hist2'):\n",
    "        hist2.append(gene)\n",
    "    elif gene.startswith('Hist3'):\n",
    "        hist3.append(gene)\n",
    "    elif gene.startswith('Hist4'):\n",
    "        hist4.append(gene)\n",
    "\n",
    "# create a dictionary that maps the gene names to a respective color\n",
    "hist1_cols = dict.fromkeys(hist1, DPre.config.colors[10])\n",
    "hist2_cols = dict.fromkeys(hist2, DPre.config.colors[11])\n",
    "hist3_cols = dict.fromkeys(hist3, DPre.config.colors[12])\n",
    "hist4_cols = dict.fromkeys(hist4, DPre.config.colors[13])\n",
    "genes_cb = {**hist1_cols, **hist2_cols, **hist3_cols, **hist4_cols}\n",
    "# plot the color legend\n",
    "DPre.plot_color_legend(('Hist1', 'Hist2', 'Hist3', 'Hist4'), DPre.config.colors[10:14],\n",
    "                       filename='hist_legend.png')\n",
    "\n",
    "# plot the most increasing genes and save\n",
    "data = t_eryth.gene_similarity_heatmap(mcrs4, \n",
    "                                       metric = 'euclid',\n",
    "                                       display_genes = 'increasing',\n",
    "                                       gene_number = 80,\n",
    "                                       heatmap_width = .9,\n",
    "                                       genelabels_size = .7,\n",
    "                                       genelabels_space = .5,\n",
    "                                       show_genes_colorbar = genes_cb,\n",
    "                                       filename = 'gene_sim_incr.pdf',\n",
    "                                       HM_WSPACE = .1,           # size constant defining the size between plots (left/right)\n",
    "                                      )"
   ]
  },
  {
   "cell_type": "markdown",
   "metadata": {},
   "source": [
    "Or on the command line without colors:"
   ]
  },
  {
   "cell_type": "code",
   "execution_count": null,
   "metadata": {},
   "outputs": [],
   "source": [
    "# copy and paste into your terminal\n",
    "!python ../../dpre.py -pt \"mouse\" -ts \"Basophilic erythroblast\" -ts \"Erythroblast\" -ts \"Orthochromatic erythroblast\" -ts \"Polychromatic erythroblast\" -ts \"Proerythroblast\" -sd \"./knockdown_deseq_res\" -se \"knockdown_expression.tsv\" -c \"shLuc\" -sn \"sh knockdown in mESCs\" -so -ss \"shMcrs1\" -ss \"shLuc\" gene_sim -di \"increasing\" -gn 80 -hw 0.9 -ges 0.7 -ge 0.7 -f \"gene_sim_incr.pdf\""
   ]
  },
  {
   "cell_type": "markdown",
   "metadata": {},
   "source": [
    "The gene colorbar emphasizes the dominence of Hist1 nicely. "
   ]
  }
 ],
 "metadata": {
  "kernelspec": {
   "display_name": "Python 3",
   "language": "python",
   "name": "python3"
  },
  "language_info": {
   "codemirror_mode": {
    "name": "ipython",
    "version": 3
   },
   "file_extension": ".py",
   "mimetype": "text/x-python",
   "name": "python",
   "nbconvert_exporter": "python",
   "pygments_lexer": "ipython3",
   "version": "3.7.3"
  }
 },
 "nbformat": 4,
 "nbformat_minor": 2
}
