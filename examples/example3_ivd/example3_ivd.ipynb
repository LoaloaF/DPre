{
 "cells": [
  {
   "cell_type": "code",
   "execution_count": null,
   "metadata": {},
   "outputs": [],
   "source": [
    "# setting up jupyter\n",
    "%matplotlib inline\n",
    "import matplotlib as mpl\n",
    "mpl.rcParams['figure.dpi'] = 300\n",
    "mpl.rcParams['savefig.dpi'] = 300"
   ]
  },
  {
   "cell_type": "markdown",
   "metadata": {},
   "source": [
    "# Example 3 - defined <i>in vitro</i> differentiation of mESCs \n",
    "This example features a merged dataset of 3 samples, each with its own control. In this context, we want to confirm the differentiation of motor neurons and cardiomyocytes, and further check transcriptional similarity for retinoic acid treated cells. This will include the use of <i>italic</i> labels, renaming sample elements, dealing with multiple samples instances and adjusting the minimum required detection threshold."
   ]
  },
  {
   "cell_type": "markdown",
   "metadata": {},
   "source": [
    "As always, we begin by initiating samples and targets. Since the input data for this experiment was gathered from different sources, the samples have separate controls. Therefore, we create three individual samples which take the expression data in the form of a <i>pandas.DataFrame</i> slice:"
   ]
  },
  {
   "cell_type": "code",
   "execution_count": null,
   "metadata": {
    "scrolled": false
   },
   "outputs": [],
   "source": [
    "from DPre import samples\n",
    "import pandas as pd\n",
    "\n",
    "# iniatite multiple sample data instances because of different controls\n",
    "ivd_expr = pd.read_csv('ivd_expression.tsv', sep='\\t', index_col='ensg')\n",
    "# cardiomyocytes \n",
    "cm_sample = samples(expression = ivd_expr.loc[:, ['ivd ESCs (cardio)', 'ivd cardiomyocytes']],    # syntax: loc[all rows, specifc columns] \n",
    "                    ctrl = 'ivd ESCs (cardio)',\n",
    "                    name = 'in vitro differentiated cardiomyocytes')\n",
    "# motor neurons\n",
    "mn_sample = samples(expression = ivd_expr.loc[:, ['ivd ESCs (mneu)', 'ivd motor neurons']], \n",
    "                    ctrl = 'ivd ESCs (mneu)',\n",
    "                    name = 'in vitro differentiated motor neurons')\n",
    "# retinoic acid treated\n",
    "ra_sample = samples(expression = ivd_expr.loc[:, ['ivd ESCs (ra)', 'ivd retinoic acid']],\n",
    "                    ctrl = 'ivd ESCs (ra)',\n",
    "                    name = 'in vitro differentiated ESCs +retinoic acid')\n"
   ]
  },
  {
   "cell_type": "markdown",
   "metadata": {},
   "source": [
    "When initiating samples or targets, the number of detected genes is shown. In this data, the samples only list 10251 genes, which could result in low <b>proportional target marker gene detection</b> values. We can visualize those proportions with the <b><i>plot_detec_mgs_prop()</i></b> function:"
   ]
  },
  {
   "cell_type": "code",
   "execution_count": null,
   "metadata": {},
   "outputs": [],
   "source": [
    "from DPre import preset_targets\n",
    "\n",
    "# initatie the target to compare against\n",
    "t = preset_targets('mouse')\n",
    "hist = t.plot_detec_mgs_prop(samples = cm_sample,\n",
    "                             filename = 'trg_mgs_detec_prop.png',\n",
    "                             plt_show = True     \n",
    "                            )\n"
   ]
  },
  {
   "cell_type": "markdown",
   "metadata": {},
   "source": [
    "Especially the blood mesoderm shows very low detection values. The default threshold of 15% delivered solid results in our testing, however, if too many targets are dropped or similarity scores seem off for low detection targets, feel free to adjust this value in <i>conifg.DROP_TARGET_DETEC_THR</i>. For temporal changes pass DROP_TARGET_DETEC_THR to the plotting function. Note however that the change only applies if passed to the first plot in the script. For applying changes in the command line interface, the constant must be manually changed in the config file."
   ]
  },
  {
   "cell_type": "markdown",
   "metadata": {},
   "source": [
    "Next we want to make the 'in vitro' in the <b>labels italic</b>. This can be achieved by using LaTeX and DPre's <b>elements name setting</b> functionality (not implemented for the command line interface):"
   ]
  },
  {
   "cell_type": "code",
   "execution_count": null,
   "metadata": {
    "scrolled": true
   },
   "outputs": [],
   "source": [
    "# make the `in vitro` in the labels italic\n",
    "it_in_vit = '$\\mathit{in}$ $\\mathit{vitro}$'     # TEX expression for italic 'in vitro' string\n",
    "cm_sample.names = ({'ivd cardiomyocytes': it_in_vit+' differentiated cardiomyocytes'})    # passing a mapping of old name -> new name\n",
    "mn_sample.names = ({'ivd motor neurons': it_in_vit+' differentiated motor neurons'})\n",
    "ra_sample.names = ({'ivd retinoic acid': 'ESCs +retinoic acid'})"
   ]
  },
  {
   "cell_type": "markdown",
   "metadata": {},
   "source": [
    "To identify the peak differentiation bias, we use the <i>ranked_similarity_barplot()</i> function on the three samples:"
   ]
  },
  {
   "cell_type": "code",
   "execution_count": null,
   "metadata": {},
   "outputs": [],
   "source": [
    "# draw the ranked similarity plot iteratively\n",
    "for sam in (cm_sample, mn_sample, ra_sample):\n",
    "    t.ranked_similarity_barplot(samples = sam, \n",
    "                                n_targets = 10, \n",
    "                                xlim_range = [-1.7, 1.7],    # ensure consistent ranges across plots\n",
    "                                display_negative = True,\n",
    "                                pivot = True,\n",
    "                                targetlabels_size = .95,      # downscale the labels for space saving\n",
    "                                targetlabels_space = .6,\n",
    "                                BP_TOP = .5,\n",
    "                                BP_BARSPACE = .6,\n",
    "                                BP_BOTTOM = .2,\n",
    "                                title = sam.names[1],      # set the element name as the title\n",
    "                                filename = 'ranked_sim.png',    # when .png, DPre autiamically uniquely extends the filename\n",
    "                                plt_show = True,\n",
    "                                )"
   ]
  },
  {
   "cell_type": "markdown",
   "metadata": {},
   "source": [
    "or with the command line interface in three commands:"
   ]
  },
  {
   "cell_type": "code",
   "execution_count": null,
   "metadata": {},
   "outputs": [],
   "source": [
    "# copy and paste into your terminal\n",
    "> python ../../dpre.py -pt \"mouse\" -se \"ivd_expression.tsv\" -c \"ivd ESCs (cardio)\" -ss \"ivd cardiomyocytes\"  -ss \"ivd ESCs (cardio)\"  -sn \"in vitro differentiated cardiomyocytes\" ranked_sim -nt 10 -x -1.7 -x 1.7 -din -pi -tas .95 -ta .6 -f \"ranked_sim.png\""
   ]
  },
  {
   "cell_type": "code",
   "execution_count": null,
   "metadata": {},
   "outputs": [],
   "source": [
    "> python ../../dpre.py -pt \"mouse\" -se \"ivd_expression.tsv\" -c \"ivd ESCs (mneu)\" -ss \"ivd motor neurons\"  -ss \"ivd ESCs (mneu)\" -sn \"in vitro differentiated motor neurons\" ranked_sim -nt 10 -x -1.7 -x 1.7 -din -pi -tas .95 -ta .6 -f \"ranked_sim.png\""
   ]
  },
  {
   "cell_type": "code",
   "execution_count": null,
   "metadata": {},
   "outputs": [],
   "source": [
    "> python ../../dpre.py -pt \"mouse\" -se \"ivd_expression.tsv\" -c \"ivd ESCs (ra)\" -ss \"ivd retinoic acid\" -ss \"ivd ESCs (ra)\" -sn \"in vitro differentiated mESCs +retinoic acid\" ranked_sim  -nt 10 -x -1.7 -x 1.7 -din -pi -tas .95 -ta .6 -f \"ranked_sim.png\""
   ]
  },
  {
   "cell_type": "markdown",
   "metadata": {},
   "source": [
    "The differential similarity has the advantage of identifying the <i>bias</i> in differentiation. Instead of judging whether a cell kept its original identity or transitioned into another cell type, only the direction is suggested. However, in highly differentiated samples like in this example, the <b>absolute similarity</b> can give valuable insight on transcriptional identity. Since the absolute similarity doesn't require a control in the samples, we can merge the three into one samples instance and create one summarizing similarity heatmap:"
   ]
  },
  {
   "cell_type": "code",
   "execution_count": null,
   "metadata": {},
   "outputs": [],
   "source": [
    "import pandas as pd\n",
    "from DPre import samples\n",
    "\n",
    "# make a samples instance with the 3 samples above to produce one heatmap\n",
    "all_expr = ivd_expr.loc[:, ['ivd cardiomyocytes', 'ivd motor neurons', 'ivd retinoic acid']]      # exclude controls\n",
    "all_expr.columns = [it_in_vit+' differentiated cardiomyocytes',     # rename expression input for directly getting the correct names\n",
    "                    it_in_vit+' differentiated motor neurons', \n",
    "                    'ESCs +retinoic acid']                                   \n",
    "all_sample = samples(expression = all_expr, \n",
    "                     name = it_in_vit + ' differentiated ESCs')\n",
    "hm = t.target_similarity_heatmap(samples = all_sample,\n",
    "                                 differential = False,             # on command line this is passed by absolute = True, i.e. -a\n",
    "                                 pivot = True,\n",
    "    #                             cluster_targets = True          # cluster the targets and draw a dendrogram on top\n",
    "                                 heatmap_height = 1.6,        # make heatmap higher\n",
    "                                 heatmap_width = .13, \n",
    "                                 hide_targetlabels = True, \n",
    "                                 targetlabels_space = .45,\n",
    "                                 samplelabels_space = 1,\n",
    "                                 HM_TOP = .4,\n",
    "                                 HM_RIGHT = .1,\n",
    "                                 filename = 'abs_sim_hm.png',\n",
    "                                 plt_show = True,\n",
    "                                 )"
   ]
  },
  {
   "cell_type": "markdown",
   "metadata": {},
   "source": [
    "or on the command line:"
   ]
  },
  {
   "cell_type": "code",
   "execution_count": null,
   "metadata": {},
   "outputs": [],
   "source": [
    "# copy and paste into your terminal\n",
    "> python ../../dpre.py -pt \"mouse\" -se \"ivd_expression.tsv\" -ss \"ivd cardiomyocytes\"  -ss \"ivd motor neurons\"  -ss \"ivd retinoic acid\" -sn \"in vitro differentiated ESCs\" target_sim -a -pi -hh 1.6 -hw .13 -hta -ta .45 -sa 1 -f \"abs_sim_hm.png\""
   ]
  }
 ],
 "metadata": {
  "kernelspec": {
   "display_name": "Python 3",
   "language": "python",
   "name": "python3"
  },
  "language_info": {
   "codemirror_mode": {
    "name": "ipython",
    "version": 3
   },
   "file_extension": ".py",
   "mimetype": "text/x-python",
   "name": "python",
   "nbconvert_exporter": "python",
   "pygments_lexer": "ipython3",
   "version": "3.7.3"
  }
 },
 "nbformat": 4,
 "nbformat_minor": 2
}
